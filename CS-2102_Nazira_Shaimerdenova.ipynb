{
 "cells": [
  {
   "cell_type": "markdown",
   "id": "1be93a4f-8ace-4622-924f-0a4f4e096ffc",
   "metadata": {},
   "source": [
    "# Big Data in Law Enforcement"
   ]
  },
  {
   "cell_type": "markdown",
   "id": "ec2845af-3853-4510-a649-84a42214a20f",
   "metadata": {},
   "source": [
    "## Introduction\n",
    "As far as I know and understand, big data is such large amounts of information that it is difficult to calculate and analyze yourself, manually. Therefore, different methods and systems are used to calculate and analyze such big data. For example, in the second year we studied the discipline Database Management Systems, where we worked with the PostgreSQL program. We used different databases, worked with them, and thanks to this program we could work with big data and analyze information.\n",
    "\n",
    "Cybersecurity is like a part of information security, which is aimed at protecting computer systems and devices, it protects data from various threats, such as malicious attacks and so on."
   ]
  },
  {
   "cell_type": "markdown",
   "id": "b72da534-0883-4c38-985d-faa38e3ec298",
   "metadata": {},
   "source": [
    "__Objective__\n",
    "- Creating code and markdown cells\n",
    "- List of popular languages\n",
    "- List of data science libraries\n",
    "- Table of Data Science tools\n",
    "- Creating cells with arithmetic expressions"
   ]
  },
  {
   "cell_type": "markdown",
   "id": "f4d8f5d7-5a1c-4804-81f0-ed3876151295",
   "metadata": {},
   "source": [
    "_Some of the popular languages that Data Scientists use are:_\n",
    "1. Python\n",
    "2. Java\n",
    "3. SQL\n",
    "4. Julia"
   ]
  },
  {
   "cell_type": "markdown",
   "id": "5c96b74f-8844-4124-87be-97afa729f4d6",
   "metadata": {},
   "source": [
    "_Some of the commonly used libraries used by Data Scientist include:_\n",
    "* pandas\n",
    "* NumPy\n",
    "* matplotlib\n",
    "* scikit-learn"
   ]
  },
  {
   "cell_type": "markdown",
   "id": "dbf713f0-4470-4910-8e90-ea27d85b1281",
   "metadata": {},
   "source": [
    "| Data Science Tools |\n",
    "---------------------\n",
    "| Jupyter Lab |\n",
    "| R-Studio |\n",
    "| Apache Spark |"
   ]
  },
  {
   "cell_type": "markdown",
   "id": "9acbcf48-e1ae-44d0-ae86-fd0663b2c0a9",
   "metadata": {},
   "source": [
    "### Below are a few examples of evaluating arithmetic expressions in Python."
   ]
  },
  {
   "cell_type": "code",
   "execution_count": 3,
   "id": "6a6604cc-ac09-4284-ba2a-865f48820875",
   "metadata": {
    "tags": []
   },
   "outputs": [
    {
     "data": {
      "text/plain": [
       "33"
      ]
     },
     "execution_count": 3,
     "metadata": {},
     "output_type": "execute_result"
    }
   ],
   "source": [
    "#This is a simple arithmetic expression\n",
    "(4*6)+9"
   ]
  },
  {
   "cell_type": "code",
   "execution_count": 7,
   "id": "84dfd7ff-861b-4ee3-9e06-cdcc62d03609",
   "metadata": {
    "tags": []
   },
   "outputs": [
    {
     "name": "stdout",
     "output_type": "stream",
     "text": [
      "5.0\n"
     ]
    }
   ],
   "source": [
    "#This will convert 300 minutes to hours by dividing by 60.\n",
    "minutes = 300\n",
    "minutesinhours = minutes/60\n",
    "print(minutesinhours)"
   ]
  },
  {
   "cell_type": "markdown",
   "id": "5cefb949-13ac-47ee-af1a-24a9ca5000f1",
   "metadata": {},
   "source": [
    "## Author\n",
    "Shaimerdenova Nazira"
   ]
  }
 ],
 "metadata": {
  "kernelspec": {
   "display_name": "Python 3 (ipykernel)",
   "language": "python",
   "name": "python3"
  },
  "language_info": {
   "codemirror_mode": {
    "name": "ipython",
    "version": 3
   },
   "file_extension": ".py",
   "mimetype": "text/x-python",
   "name": "python",
   "nbconvert_exporter": "python",
   "pygments_lexer": "ipython3",
   "version": "3.11.5"
  }
 },
 "nbformat": 4,
 "nbformat_minor": 5
}
